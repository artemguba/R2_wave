{
 "cells": [
  {
   "cell_type": "code",
   "execution_count": null,
   "id": "252df50a-8b9e-408a-9f3b-535ee7d35e28",
   "metadata": {},
   "outputs": [],
   "source": [
    "import numpy as np\n",
    "import matplotlib.pyplot as plt\n",
    "from mpl_toolkits.mplot3d import Axes3D\n",
    "\n",
    "# Параметры сетки\n",
    "L = 5\n",
    "N = 101\n",
    "x = np.linspace(0, L, N)\n",
    "y = np.linspace(0, L, N)\n",
    "X, Y = np.meshgrid(x, y, indexing='ij')\n",
    "\n",
    "# Параметры волнового уравнения\n",
    "T = 1\n",
    "K = 200\n",
    "t = np.linspace(0, T, K)\n",
    "dt = t[1] - t[0]\n",
    "\n",
    "# Инициализация функции u и начального условия\n",
    "u = np.zeros((K, N, N))\n",
    "u[0, :, :] = np.sin(np.pi * X) * np.sin(np.pi * Y)\n",
    "\n",
    "# Решение уравнения переноса волн\n",
    "c = 1\n",
    "for k in range(1, K):\n",
    "    for i in range(1, N-1):\n",
    "        for j in range(1, N-1):\n",
    "            u[k, i, j] = u[k-1, i, j] - c * dt * (u[k-1, i, j] - u[k-1, i-1, j]) - c * dt * (u[k-1, i, j] - u[k-1, i, j-1])\n",
    "\n",
    "# Вывод графиков в различные моменты времени\n",
    "fig = plt.figure(figsize=(20, 10))\n",
    "for idx, t in enumerate(time_steps):\n",
    "    ax = fig.add_subplot(2, 5, idx+1, projection='3d')\n",
    "    X, Y = np.meshgrid(np.linspace(0, L, nx), np.linspace(0, L, ny))\n",
    "    surf = ax.plot_surface(X, Y, U_X_Y, cmap='hot', rstride=1, cstride=1)\n",
    "    ax.set_xlabel('X')\n",
    "    ax.set_ylabel('Y')\n",
    "    ax.set_zlabel('U(x,y,t)')\n",
    "    ax.set_title('Численное решение при t = {:.2f}'.format(t*dt*T))\n",
    "\n",
    "plt.tight_layout()\n",
    "plt.show()"
   ]
  }
 ],
 "metadata": {
  "kernelspec": {
   "display_name": "Python 3 (ipykernel)",
   "language": "python",
   "name": "python3"
  },
  "language_info": {
   "codemirror_mode": {
    "name": "ipython",
    "version": 3
   },
   "file_extension": ".py",
   "mimetype": "text/x-python",
   "name": "python",
   "nbconvert_exporter": "python",
   "pygments_lexer": "ipython3",
   "version": "3.10.12"
  }
 },
 "nbformat": 4,
 "nbformat_minor": 5
}
