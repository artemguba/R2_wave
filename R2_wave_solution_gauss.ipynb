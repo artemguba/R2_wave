{
 "cells": [
  {
   "cell_type": "code",
   "execution_count": null,
   "id": "a86471b2-f62a-43f0-9262-1c892a073bb6",
   "metadata": {},
   "outputs": [],
   "source": [
    "import numpy as np\n",
    "import matplotlib.pyplot as plt\n",
    "\n",
    "# Parameters\n",
    "nx = 101\n",
    "ny = 101\n",
    "nt = 200\n",
    "dx = 2 / (nx - 1)\n",
    "dy = 2 / (ny - 1)\n",
    "dt = 0.01\n",
    "T = 1.0\n",
    "\n",
    "# Initialization\n",
    "u = np.ones((nx, ny, nt+1))\n",
    "\n",
    "# Function for analytical solution\n",
    "def analytical_solution(x, y, t):\n",
    "    return np.sin(np.pi * x) * np.sin(np.pi * y) * np.exp(-2 * np.pi**2 * t)\n",
    "\n",
    "# Function to calculate the residual (misfit) between the numerical and analytical solutions\n",
    "def calculate_residual(u_numerical, dx, dy, nt, T):\n",
    "    residual = np.zeros(nt+1)\n",
    "    for n in range(nt+1):\n",
    "        analytical_values = np.fromfunction(lambda i, j: analytical_solution(i * dx, j * dy, n * dt * T), (nx, ny))\n",
    "        residual[n] = np.linalg.norm(u_numerical[:, :, n] - analytical_values)\n",
    "    return residual\n",
    "\n",
    "# Time-stepping loop\n",
    "for n in range(1, nt+1):\n",
    "    u[1:-1, 1:-1, n] = u[1:-1, 1:-1, n-1] + dt * (u[2:, 1:-1, n-1] - 2*u[1:-1, 1:-1, n-1] + u[:-2, 1:-1, n-1]) / dx**2 + dt * (u[1:-1, 2:, n-1] - 2*u[1:-1, 1:-1, n-1] + u[1:-1, :-2, n-1]) / dy**2\n",
    "\n",
    "# Calculate residual\n",
    "residual = calculate_residual(u, dx, dy, nt, T)\n",
    "\n",
    "# Plot the residual over time\n",
    "plt.figure(figsize=(8, 5))\n",
    "plt.plot(np.arange(nt+1)*dt*T, residual, color='blue', linestyle='-', marker='o')\n",
    "plt.xlabel('Time')\n",
    "plt.ylabel('Residual')\n",
    "plt.title('Residual over Time')\n",
    "plt.grid()\n",
    "plt.show()"
   ]
  }
 ],
 "metadata": {
  "kernelspec": {
   "display_name": "Python 3 (ipykernel)",
   "language": "python",
   "name": "python3"
  },
  "language_info": {
   "codemirror_mode": {
    "name": "ipython",
    "version": 3
   },
   "file_extension": ".py",
   "mimetype": "text/x-python",
   "name": "python",
   "nbconvert_exporter": "python",
   "pygments_lexer": "ipython3",
   "version": "3.10.12"
  }
 },
 "nbformat": 4,
 "nbformat_minor": 5
}
